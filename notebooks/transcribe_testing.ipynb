{
 "cells": [
  {
   "cell_type": "code",
   "execution_count": 1,
   "metadata": {},
   "outputs": [],
   "source": [
    "import os\n",
    "\n",
    "import yt_dlp"
   ]
  },
  {
   "cell_type": "code",
   "execution_count": 2,
   "metadata": {},
   "outputs": [],
   "source": [
    "def download_audio_from_youtube(url: str, output_path: str, custom_filename:str=None):\n",
    "    \"\"\"\n",
    "    Download audio from a YouTube video and save it to a specified path.\n",
    "    :param url: YouTube video URL\n",
    "    :param output_path: Path to save the audio file\n",
    "    :param custom_filename: Custom filename for the audio file\n",
    "    :return: None\n",
    "    \"\"\"\n",
    "    # Create output directory if it doesn't exist\n",
    "    os.makedirs(output_path, exist_ok=True)\n",
    "    \n",
    "    # Define output format and path\n",
    "    output_format = os.path.join(output_path, custom_filename + '.%(ext)s') if custom_filename else os.path.join(output_path, '%(title)s.%(ext)s')\n",
    "\n",
    "    # Specify download options\n",
    "    ydl_opts = {\n",
    "        'format': 'bestaudio/best',\n",
    "        'outtmpl': output_format,\n",
    "        'postprocessors': [{\n",
    "            'key': 'FFmpegExtractAudio',\n",
    "            'preferredcodec': 'mp3',\n",
    "            'preferredquality': '192',\n",
    "        }],\n",
    "    }\n",
    "\n",
    "    # Download the audio file\n",
    "    with yt_dlp.YoutubeDL(ydl_opts) as ydl:\n",
    "        ydl.download([url])"
   ]
  },
  {
   "cell_type": "code",
   "execution_count": 5,
   "metadata": {},
   "outputs": [
    {
     "name": "stdout",
     "output_type": "stream",
     "text": [
      "[youtube] Extracting URL: https://www.youtube.com/watch?v=OPSZDOX-2wQ\n",
      "[youtube] OPSZDOX-2wQ: Downloading webpage\n",
      "[youtube] OPSZDOX-2wQ: Downloading ios player API JSON\n",
      "[youtube] OPSZDOX-2wQ: Downloading android player API JSON\n",
      "[youtube] OPSZDOX-2wQ: Downloading m3u8 information\n",
      "[info] OPSZDOX-2wQ: Downloading 1 format(s): 251\n",
      "[download] Destination: ../data/audio/Ivan Toney Reveals Which Premier League Team He Wants To Play For Next.webm\n",
      "[download] 100% of    6.17MiB in 00:00:01 at 5.11MiB/s   \n",
      "[ExtractAudio] Destination: ../data/audio/Ivan Toney Reveals Which Premier League Team He Wants To Play For Next.mp3\n",
      "Deleting original file ../data/audio/Ivan Toney Reveals Which Premier League Team He Wants To Play For Next.webm (pass -k to keep)\n"
     ]
    }
   ],
   "source": [
    "url = \"https://www.youtube.com/watch?v=OPSZDOX-2wQ\"\n",
    "output_path = \"../data/audio\"\n",
    "\n",
    "download_audio_from_youtube(url, output_path)"
   ]
  },
  {
   "cell_type": "code",
   "execution_count": 2,
   "metadata": {},
   "outputs": [],
   "source": [
    "import torch\n",
    "from transformers import AutoModelForSpeechSeq2Seq, AutoProcessor, pipeline"
   ]
  },
  {
   "cell_type": "code",
   "execution_count": 3,
   "metadata": {},
   "outputs": [
    {
     "data": {
      "text/plain": [
       "WhisperForConditionalGeneration(\n",
       "  (model): WhisperModel(\n",
       "    (encoder): WhisperEncoder(\n",
       "      (conv1): Conv1d(80, 384, kernel_size=(3,), stride=(1,), padding=(1,))\n",
       "      (conv2): Conv1d(384, 384, kernel_size=(3,), stride=(2,), padding=(1,))\n",
       "      (embed_positions): Embedding(1500, 384)\n",
       "      (layers): ModuleList(\n",
       "        (0-3): 4 x WhisperEncoderLayer(\n",
       "          (self_attn): WhisperAttention(\n",
       "            (k_proj): Linear(in_features=384, out_features=384, bias=False)\n",
       "            (v_proj): Linear(in_features=384, out_features=384, bias=True)\n",
       "            (q_proj): Linear(in_features=384, out_features=384, bias=True)\n",
       "            (out_proj): Linear(in_features=384, out_features=384, bias=True)\n",
       "          )\n",
       "          (self_attn_layer_norm): LayerNorm((384,), eps=1e-05, elementwise_affine=True)\n",
       "          (activation_fn): GELUActivation()\n",
       "          (fc1): Linear(in_features=384, out_features=1536, bias=True)\n",
       "          (fc2): Linear(in_features=1536, out_features=384, bias=True)\n",
       "          (final_layer_norm): LayerNorm((384,), eps=1e-05, elementwise_affine=True)\n",
       "        )\n",
       "      )\n",
       "      (layer_norm): LayerNorm((384,), eps=1e-05, elementwise_affine=True)\n",
       "    )\n",
       "    (decoder): WhisperDecoder(\n",
       "      (embed_tokens): Embedding(51864, 384, padding_idx=50256)\n",
       "      (embed_positions): WhisperPositionalEmbedding(448, 384)\n",
       "      (layers): ModuleList(\n",
       "        (0-3): 4 x WhisperDecoderLayer(\n",
       "          (self_attn): WhisperAttention(\n",
       "            (k_proj): Linear(in_features=384, out_features=384, bias=False)\n",
       "            (v_proj): Linear(in_features=384, out_features=384, bias=True)\n",
       "            (q_proj): Linear(in_features=384, out_features=384, bias=True)\n",
       "            (out_proj): Linear(in_features=384, out_features=384, bias=True)\n",
       "          )\n",
       "          (activation_fn): GELUActivation()\n",
       "          (self_attn_layer_norm): LayerNorm((384,), eps=1e-05, elementwise_affine=True)\n",
       "          (encoder_attn): WhisperAttention(\n",
       "            (k_proj): Linear(in_features=384, out_features=384, bias=False)\n",
       "            (v_proj): Linear(in_features=384, out_features=384, bias=True)\n",
       "            (q_proj): Linear(in_features=384, out_features=384, bias=True)\n",
       "            (out_proj): Linear(in_features=384, out_features=384, bias=True)\n",
       "          )\n",
       "          (encoder_attn_layer_norm): LayerNorm((384,), eps=1e-05, elementwise_affine=True)\n",
       "          (fc1): Linear(in_features=384, out_features=1536, bias=True)\n",
       "          (fc2): Linear(in_features=1536, out_features=384, bias=True)\n",
       "          (final_layer_norm): LayerNorm((384,), eps=1e-05, elementwise_affine=True)\n",
       "        )\n",
       "      )\n",
       "      (layer_norm): LayerNorm((384,), eps=1e-05, elementwise_affine=True)\n",
       "    )\n",
       "  )\n",
       "  (proj_out): Linear(in_features=384, out_features=51864, bias=False)\n",
       ")"
      ]
     },
     "execution_count": 3,
     "metadata": {},
     "output_type": "execute_result"
    }
   ],
   "source": [
    "device = \"cuda:0\" if torch.cuda.is_available() else \"cpu\"\n",
    "torch_dtype = torch.float16 if torch.cuda.is_available() else torch.float32\n",
    "\n",
    "# model_id = \"openai/whisper-large-v3\"\n",
    "model_id = \"openai/whisper-tiny.en\"\n",
    "\n",
    "model = AutoModelForSpeechSeq2Seq.from_pretrained(\n",
    "    model_id, torch_dtype=torch_dtype, low_cpu_mem_usage=True, use_safetensors=True\n",
    ")\n",
    "model.to(device)\n"
   ]
  },
  {
   "cell_type": "code",
   "execution_count": 4,
   "metadata": {},
   "outputs": [],
   "source": [
    "processor = AutoProcessor.from_pretrained(model_id)"
   ]
  },
  {
   "cell_type": "code",
   "execution_count": 5,
   "metadata": {},
   "outputs": [],
   "source": [
    "pipe = pipeline(\n",
    "    \"automatic-speech-recognition\",\n",
    "    model=model,\n",
    "    tokenizer=processor.tokenizer,\n",
    "    feature_extractor=processor.feature_extractor,\n",
    "    max_new_tokens=128,\n",
    "    chunk_length_s=30,\n",
    "    batch_size=16,\n",
    "    return_timestamps=True,\n",
    "    torch_dtype=torch_dtype,\n",
    "    device=device,\n",
    ")"
   ]
  },
  {
   "cell_type": "code",
   "execution_count": 6,
   "metadata": {},
   "outputs": [],
   "source": [
    "result = pipe('../data/audio/Ivan Toney Reveals Which Premier League Team He Wants To Play For Next.mp3')"
   ]
  },
  {
   "cell_type": "code",
   "execution_count": 7,
   "metadata": {},
   "outputs": [
    {
     "name": "stdout",
     "output_type": "stream",
     "text": [
      " Brentford is a fantastic team. I think of all the teams in the Premier League, if we talk about admiration, I'm really in my bright and at the moment, but Brentford, absolutely think our brilliant brilliant team, really ton of admiration for them. There's a lot of people that are obviously linking you to other clubs and saying, oh, is he gonna join this, I'm a man, just United. And all of that, how do you receive all of that? All these links to because everyone's looking for a striker strikers are like the hardest to find Gold score is in the Premier League. You got Harlan you got Kane. He's gone now now you'll technically the second best striker That's currently in the league on paper So, you know these big clubs are gonna come knocking they're gonna say, you know Chelsea's got fucking unlimited money over here You know, did we need a striker How'd you receive all of that? I'm really like, from Young and Black, I said, I don't let this all affect me. I was the area we're going on in the background, but my job is to keep training well when I get the chance in the games to keep scoring and doing well, but I think everybody wants to play the top of the tree and not that Brent without there. But I feel like playing for big club fighting for trophies and these kind of things everybody wants to do and if the chance was to come along I think I'd be silly not to look more into it but I feel like yeah and the managing knows that I want to be playing the highest possible level possible. And whenever that time comes, then it's all to be it. But I can't think of my time at Brentford's been being good. We probably won the best times in my career. And that's a special club like, they just got something that they got a culture there which is super special. So that culture you describe will get the best out of you as a player for sure So it's like you're great talent great culture equals great results. It's like one plus one equals three Yeah, no, yeah, I like the next club I'll go to if I was to move it would be like The right club when you say the right club you're not talking about Liverpool are you? like the right club. When you say the right club, you're not talking about Liverpool are you? How'd you remember, Liverpool fell in Liverpool fell in Liverpool fell in Liverpool fell in Liverpool fell in Liverpool. You've been Liverpool fell in your whole life? Yeah, I've been Liverpool fell in my whole life, but from young, I've liked Arsenal, like watching Arsenal, from how they play and the kind of how passionate fans are. But yeah, Liverpool fan, Liverpool boy at heart. So Liverpool at heart, love how our snore play, love their style. Yeah. Anything about Manchester United? I liked, I liked Bob with Tophan, it was there. Okay, you're so proud. I liked Swatchins and United a lot when Bob was Tophan's there, so. Okay. Well, we do actually need a striker. So I've actually got contact here that Eric and I want you to go on over to the gym. So much. Imagine. Now, well, I just, and I hope you, um, I just want to see you back playing again, because I think, uh, think it's a, it's a gift to the Premier League you're talent. And also when I look at your story, you didn't have a straight line that a lot of people have in football. You went up, down, up, down, up, down and you persevered because the talent is... You can't argue with it. You can't argue with the talent. And so this whole gambling section of your life, it's a bit of a blip in there. It's a hurdle you've overcome. And you've taken your punishment, you move on from that, you admit responsibility. Yeah. Yeah. And so now it becomes the back again about the football. Yeah, like you said, the journey's been, it's been wild, it's been crazy. And if I was to read a book on myself, I'd say this guy's done a lot and been through a lot and He's still fighting and it's to Clam into the top of tree. How's he managed you with that with everything that's come on. What's the goal? You know if we if we have this conversation again at the end of your career and we sit down here and we go man And you go down. That was a successful career Steve. What happened? I Want to be playing for England and screwing goals I don't want to be I play England a couple times I want to be the main man wherever I go and I'm a England I know it got Harry K and Nays probably one of the best trackers in the world if not the best, and that's what I'm up against. So, I need to get to that level. So, it's just takes working hard and keep firing. A little year-old is around the corner as well. Yeah, and that's another place I want to get to, which I do believe that. In my head, I'm place on I get to, which I do believe that. In my head, I'm very, I'm ready to get to you, so. And at club level, what your ambition is there in football? Um, win the win, win trophies, win some silverware. I feel like... I feel like I want to play for... the highest level possible. Playful with... Playful club that's, I'm loved that, not just one of, but I feel like, with all my moves, I've not just gone to a club for whatever money or whatever. I've gone, it's been the right step for me and I've achieved something every year, every year I've just got better and better. You went with the Premier League one day? That's the end, that's the end, I don't know when the World Couples are, I don't know when trophies are, it's like, wow, I'm being from where I'm from, no phantom, not many people can achieve them things or be like, yeah, he's been at the World Cup, he's on the World Cup. And even then, my one still isn't the same house. Really? Yeah, she does want to move. She's like being there and people will one day be like, yeah, I have his mom lives there. I do that now, but it would be more of achievement. And I've won something like that and I'm like, yeah, I have his mom there. I haven't come there all the time. I think that's kind of how we are, how I am. And you can see, she's on a move into some big house. She feels safe and comfy At the house where she's at and that shows About how no choice puts to be grounded and you know three kids as well. Yeah, three little boys Do you think about them? Do you think about what the legacy you want to leave that they're gonna grow up in line about Is that question mind a lot? Yeah, yeah, it does I want to leave a legacy that they don't have no pressure on their shoulders to walk into. That's where they, wherever they is, the football or whatever industry they look to go into, which obviously I would wanna say, it's football. But wherever they're, wherever they're doing it to be successful and be like, be strong like my chosen. I feel like I want them, I do want them to have the same, I bring an ad. Like I wouldn't put them to that private school and then these things because I don't want to just give them everything. I want them to have to work for some of these. Quick one. This is really, really fascinating to me. On the back end of our YouTube channel, it says that 69.9% of you that watches channel frequently over the lifetime of this channel, haven't yet hit the subscribe button. I just wanted to ask you a favor. It helps this channel so much if you choose to just subscribe, helps us scale the gas, helps us scale the production, and it makes this show bigger. So if I could ask you for one favor, if you've watched this show before and you've enjoyed it and you like this episode that you're currently watching, could you please hit the subscribe button? Thank you so much and I'll repay that gesture by making sure that everything we do here gets better and better and better and better. That is a promise I'm willing to make you. Do we have a deal?\n"
     ]
    }
   ],
   "source": [
    "print(result[\"text\"])"
   ]
  },
  {
   "cell_type": "code",
   "execution_count": 8,
   "metadata": {},
   "outputs": [
    {
     "data": {
      "text/plain": [
       "{'text': \" Brentford is a fantastic team. I think of all the teams in the Premier League, if we talk about admiration, I'm really in my bright and at the moment, but Brentford, absolutely think our brilliant brilliant team, really ton of admiration for them. There's a lot of people that are obviously linking you to other clubs and saying, oh, is he gonna join this, I'm a man, just United. And all of that, how do you receive all of that? All these links to because everyone's looking for a striker strikers are like the hardest to find Gold score is in the Premier League. You got Harlan you got Kane. He's gone now now you'll technically the second best striker That's currently in the league on paper So, you know these big clubs are gonna come knocking they're gonna say, you know Chelsea's got fucking unlimited money over here You know, did we need a striker How'd you receive all of that? I'm really like, from Young and Black, I said, I don't let this all affect me. I was the area we're going on in the background, but my job is to keep training well when I get the chance in the games to keep scoring and doing well, but I think everybody wants to play the top of the tree and not that Brent without there. But I feel like playing for big club fighting for trophies and these kind of things everybody wants to do and if the chance was to come along I think I'd be silly not to look more into it but I feel like yeah and the managing knows that I want to be playing the highest possible level possible. And whenever that time comes, then it's all to be it. But I can't think of my time at Brentford's been being good. We probably won the best times in my career. And that's a special club like, they just got something that they got a culture there which is super special. So that culture you describe will get the best out of you as a player for sure So it's like you're great talent great culture equals great results. It's like one plus one equals three Yeah, no, yeah, I like the next club I'll go to if I was to move it would be like The right club when you say the right club you're not talking about Liverpool are you? like the right club. When you say the right club, you're not talking about Liverpool are you? How'd you remember, Liverpool fell in Liverpool fell in Liverpool fell in Liverpool fell in Liverpool fell in Liverpool. You've been Liverpool fell in your whole life? Yeah, I've been Liverpool fell in my whole life, but from young, I've liked Arsenal, like watching Arsenal, from how they play and the kind of how passionate fans are. But yeah, Liverpool fan, Liverpool boy at heart. So Liverpool at heart, love how our snore play, love their style. Yeah. Anything about Manchester United? I liked, I liked Bob with Tophan, it was there. Okay, you're so proud. I liked Swatchins and United a lot when Bob was Tophan's there, so. Okay. Well, we do actually need a striker. So I've actually got contact here that Eric and I want you to go on over to the gym. So much. Imagine. Now, well, I just, and I hope you, um, I just want to see you back playing again, because I think, uh, think it's a, it's a gift to the Premier League you're talent. And also when I look at your story, you didn't have a straight line that a lot of people have in football. You went up, down, up, down, up, down and you persevered because the talent is... You can't argue with it. You can't argue with the talent. And so this whole gambling section of your life, it's a bit of a blip in there. It's a hurdle you've overcome. And you've taken your punishment, you move on from that, you admit responsibility. Yeah. Yeah. And so now it becomes the back again about the football. Yeah, like you said, the journey's been, it's been wild, it's been crazy. And if I was to read a book on myself, I'd say this guy's done a lot and been through a lot and He's still fighting and it's to Clam into the top of tree. How's he managed you with that with everything that's come on. What's the goal? You know if we if we have this conversation again at the end of your career and we sit down here and we go man And you go down. That was a successful career Steve. What happened? I Want to be playing for England and screwing goals I don't want to be I play England a couple times I want to be the main man wherever I go and I'm a England I know it got Harry K and Nays probably one of the best trackers in the world if not the best, and that's what I'm up against. So, I need to get to that level. So, it's just takes working hard and keep firing. A little year-old is around the corner as well. Yeah, and that's another place I want to get to, which I do believe that. In my head, I'm place on I get to, which I do believe that. In my head, I'm very, I'm ready to get to you, so. And at club level, what your ambition is there in football? Um, win the win, win trophies, win some silverware. I feel like... I feel like I want to play for... the highest level possible. Playful with... Playful club that's, I'm loved that, not just one of, but I feel like, with all my moves, I've not just gone to a club for whatever money or whatever. I've gone, it's been the right step for me and I've achieved something every year, every year I've just got better and better. You went with the Premier League one day? That's the end, that's the end, I don't know when the World Couples are, I don't know when trophies are, it's like, wow, I'm being from where I'm from, no phantom, not many people can achieve them things or be like, yeah, he's been at the World Cup, he's on the World Cup. And even then, my one still isn't the same house. Really? Yeah, she does want to move. She's like being there and people will one day be like, yeah, I have his mom lives there. I do that now, but it would be more of achievement. And I've won something like that and I'm like, yeah, I have his mom there. I haven't come there all the time. I think that's kind of how we are, how I am. And you can see, she's on a move into some big house. She feels safe and comfy At the house where she's at and that shows About how no choice puts to be grounded and you know three kids as well. Yeah, three little boys Do you think about them? Do you think about what the legacy you want to leave that they're gonna grow up in line about Is that question mind a lot? Yeah, yeah, it does I want to leave a legacy that they don't have no pressure on their shoulders to walk into. That's where they, wherever they is, the football or whatever industry they look to go into, which obviously I would wanna say, it's football. But wherever they're, wherever they're doing it to be successful and be like, be strong like my chosen. I feel like I want them, I do want them to have the same, I bring an ad. Like I wouldn't put them to that private school and then these things because I don't want to just give them everything. I want them to have to work for some of these. Quick one. This is really, really fascinating to me. On the back end of our YouTube channel, it says that 69.9% of you that watches channel frequently over the lifetime of this channel, haven't yet hit the subscribe button. I just wanted to ask you a favor. It helps this channel so much if you choose to just subscribe, helps us scale the gas, helps us scale the production, and it makes this show bigger. So if I could ask you for one favor, if you've watched this show before and you've enjoyed it and you like this episode that you're currently watching, could you please hit the subscribe button? Thank you so much and I'll repay that gesture by making sure that everything we do here gets better and better and better and better. That is a promise I'm willing to make you. Do we have a deal?\",\n",
       " 'chunks': [{'timestamp': (0.0, 2.16),\n",
       "   'text': ' Brentford is a fantastic team.'},\n",
       "  {'timestamp': (2.16, 3.84),\n",
       "   'text': ' I think of all the teams in the Premier League,'},\n",
       "  {'timestamp': (3.84, 4.88), 'text': ' if we talk about admiration,'},\n",
       "  {'timestamp': (4.88, 6.92),\n",
       "   'text': \" I'm really in my bright and at the moment,\"},\n",
       "  {'timestamp': (6.92, 8.88), 'text': ' but Brentford, absolutely think'},\n",
       "  {'timestamp': (8.88, 12.72),\n",
       "   'text': ' our brilliant brilliant team, really ton of admiration for them.'},\n",
       "  {'timestamp': (12.72, 14.84),\n",
       "   'text': \" There's a lot of people that are obviously linking you\"},\n",
       "  {'timestamp': (14.84, 16.12), 'text': ' to other clubs and saying,'},\n",
       "  {'timestamp': (16.12, 17.56), 'text': ' oh, is he gonna join this,'},\n",
       "  {'timestamp': (17.56, 18.76), 'text': \" I'm a man, just United.\"},\n",
       "  {'timestamp': (18.76, 21.84),\n",
       "   'text': ' And all of that, how do you receive all of that?'},\n",
       "  {'timestamp': (21.84, 25.12),\n",
       "   'text': \" All these links to because everyone's looking for a striker strikers are like the hardest to find\"},\n",
       "  {'timestamp': (25.12, 31.72),\n",
       "   'text': \" Gold score is in the Premier League. You got Harlan you got Kane. He's gone now now you'll technically the second best striker\"},\n",
       "  {'timestamp': (31.72, 33.72),\n",
       "   'text': \" That's currently in the league on paper\"},\n",
       "  {'timestamp': (34.16, 38.64),\n",
       "   'text': \" So, you know these big clubs are gonna come knocking they're gonna say, you know Chelsea's got fucking unlimited money over here\"},\n",
       "  {'timestamp': (39.2, 41.2), 'text': ' You know, did we need a striker'},\n",
       "  {'timestamp': (41.2, 45.88),\n",
       "   'text': \" How'd you receive all of that? I'm really like, from Young and Black, I said,\"},\n",
       "  {'timestamp': (45.88, 48.8), 'text': \" I don't let this all affect me.\"},\n",
       "  {'timestamp': (48.8, 50.36),\n",
       "   'text': \" I was the area we're going on in the background,\"},\n",
       "  {'timestamp': (50.36, 53.68),\n",
       "   'text': ' but my job is to keep training well'},\n",
       "  {'timestamp': (53.68, 56.92),\n",
       "   'text': ' when I get the chance in the games to keep scoring'},\n",
       "  {'timestamp': (56.92, 59.68),\n",
       "   'text': ' and doing well, but I think everybody wants'},\n",
       "  {'timestamp': (59.68, 61.92),\n",
       "   'text': ' to play the top of the tree and not that Brent'},\n",
       "  {'timestamp': (61.92, 63.4), 'text': ' without there.'},\n",
       "  {'timestamp': (63.4, 65.54), 'text': ' But I feel like playing for big'},\n",
       "  {'timestamp': (65.54, 69.48),\n",
       "   'text': ' club fighting for trophies and these kind of things everybody wants to do and if'},\n",
       "  {'timestamp': (69.48, 76.24),\n",
       "   'text': \" the chance was to come along I think I'd be silly not to look more into it\"},\n",
       "  {'timestamp': (76.24, 85.0),\n",
       "   'text': ' but I feel like yeah and the managing knows that I want to be playing the highest possible level possible.'},\n",
       "  {'timestamp': (86.84, 90.88),\n",
       "   'text': \" And whenever that time comes, then it's all to be it.\"},\n",
       "  {'timestamp': (90.88, 94.24),\n",
       "   'text': \" But I can't think of my time at Brentford's been\"},\n",
       "  {'timestamp': (96.08, 97.16), 'text': ' being good.'},\n",
       "  {'timestamp': (97.16, 99.92),\n",
       "   'text': ' We probably won the best times in my career.'},\n",
       "  {'timestamp': (99.92, 101.28), 'text': \" And that's a special club like,\"},\n",
       "  {'timestamp': (101.28, 102.96),\n",
       "   'text': ' they just got something that they got a culture there'},\n",
       "  {'timestamp': (102.96, 104.36), 'text': ' which is super special.'},\n",
       "  {'timestamp': (104.36, 108.88),\n",
       "   'text': ' So that culture you describe will get the best out of you as a player for sure'},\n",
       "  {'timestamp': (108.88, 113.6),\n",
       "   'text': \" So it's like you're great talent great culture equals great results. It's like one plus one equals three\"},\n",
       "  {'timestamp': (114.84, 120.12),\n",
       "   'text': \" Yeah, no, yeah, I like the next club I'll go to if I was to move it would be like\"},\n",
       "  {'timestamp': (121.16, 124.82),\n",
       "   'text': \" The right club when you say the right club you're not talking about Liverpool are you?\"},\n",
       "  {'timestamp': (123.0, 123.76),\n",
       "   'text': ' like the right club. When you say the right club,'},\n",
       "  {'timestamp': (123.76, 125.36),\n",
       "   'text': \" you're not talking about Liverpool are you?\"},\n",
       "  {'timestamp': (125.36, 127.48), 'text': \" How'd you remember,\"},\n",
       "  {'timestamp': (127.48, 129.0),\n",
       "   'text': ' Liverpool fell in Liverpool fell in Liverpool fell in Liverpool fell in Liverpool fell in'},\n",
       "  {'timestamp': (129.0, 130.0), 'text': ' Liverpool.'},\n",
       "  {'timestamp': (130.0, 131.52),\n",
       "   'text': \" You've been Liverpool fell in your whole life?\"},\n",
       "  {'timestamp': (131.52, 135.36),\n",
       "   'text': \" Yeah, I've been Liverpool fell in my whole life, but from young,\"},\n",
       "  {'timestamp': (135.36, 140.52),\n",
       "   'text': \" I've liked Arsenal, like watching Arsenal, from how they play and\"},\n",
       "  {'timestamp': (140.52, 143.16),\n",
       "   'text': ' the kind of how passionate fans are.'},\n",
       "  {'timestamp': (145.1, 148.4),\n",
       "   'text': ' But yeah, Liverpool fan, Liverpool boy at heart.'},\n",
       "  {'timestamp': (148.4, 151.4),\n",
       "   'text': ' So Liverpool at heart, love how our snore play,'},\n",
       "  {'timestamp': (151.4, 152.48), 'text': ' love their style.'},\n",
       "  {'timestamp': (152.48, 153.4), 'text': ' Yeah.'},\n",
       "  {'timestamp': (153.4, 154.8), 'text': ' Anything about Manchester United?'},\n",
       "  {'timestamp': (154.8, 157.2),\n",
       "   'text': ' I liked, I liked Bob with Tophan, it was there.'},\n",
       "  {'timestamp': (157.2, 158.04), 'text': \" Okay, you're so proud.\"},\n",
       "  {'timestamp': (158.04, 159.68),\n",
       "   'text': ' I liked Swatchins and United a lot'},\n",
       "  {'timestamp': (159.68, 161.08), 'text': \" when Bob was Tophan's there, so.\"},\n",
       "  {'timestamp': (161.08, 162.0), 'text': ' Okay.'},\n",
       "  {'timestamp': (162.0, 167.32),\n",
       "   'text': \" Well, we do actually need a striker. So I've actually got contact here that Eric and I want you to go on over to the gym.\"},\n",
       "  {'timestamp': (167.32, 169.28), 'text': ' So much.'},\n",
       "  {'timestamp': (169.28, 174.28),\n",
       "   'text': ' Imagine. Now, well, I just, and I hope you, um, I just want to see you back'},\n",
       "  {'timestamp': (174.28, 177.52),\n",
       "   'text': \" playing again, because I think, uh, think it's a, it's a gift to the Premier League\"},\n",
       "  {'timestamp': (177.52, 186.56),\n",
       "   'text': \" you're talent. And also when I look at your story, you didn't have a straight line that a lot of people have in football. You went up, down, up, down, up, down and you persevered because the talent is...\"},\n",
       "  {'timestamp': (187.84, 190.64),\n",
       "   'text': \" You can't argue with it. You can't argue with the talent.\"},\n",
       "  {'timestamp': (190.64, 193.84),\n",
       "   'text': ' And so this whole gambling section of your life,'},\n",
       "  {'timestamp': (195.36, 198.32),\n",
       "   'text': \" it's a bit of a blip in there. It's a hurdle you've overcome.\"},\n",
       "  {'timestamp': (198.32, 203.92),\n",
       "   'text': \" And you've taken your punishment, you move on from that, you admit responsibility.\"},\n",
       "  {'timestamp': (205.36, 210.4),\n",
       "   'text': ' Yeah. Yeah. And so now it becomes the back again about the football.'},\n",
       "  {'timestamp': (211.36, 216.8),\n",
       "   'text': \" Yeah, like you said, the journey's been, it's been wild, it's been crazy. And if I was to read a book on\"},\n",
       "  {'timestamp': (218.32, 226.0),\n",
       "   'text': \" myself, I'd say this guy's done a lot and been through a lot and He's still fighting and it's to\"},\n",
       "  {'timestamp': (226.6, 231.2),\n",
       "   'text': \" Clam into the top of tree. How's he managed you with that with everything that's come on. What's the goal?\"},\n",
       "  {'timestamp': (232.6, 238.24),\n",
       "   'text': ' You know if we if we have this conversation again at the end of your career and we sit down here and we go man'},\n",
       "  {'timestamp': (238.24, 241.72),\n",
       "   'text': ' And you go down. That was a successful career Steve. What happened? I'},\n",
       "  {'timestamp': (243.16, 254.6),\n",
       "   'text': \" Want to be playing for England and screwing goals I don't want to be I play England a couple times I want to be the main man\"},\n",
       "  {'timestamp': (254.6, 261.74),\n",
       "   'text': \" wherever I go and I'm a England I know it got Harry K and Nays probably one of the\"},\n",
       "  {'timestamp': (261.74, 267.0),\n",
       "   'text': \" best trackers in the world if not the best, and that's what I'm up against.\"},\n",
       "  {'timestamp': (267.0, 271.0), 'text': ' So, I need to get to that level.'},\n",
       "  {'timestamp': (271.0, 276.0),\n",
       "   'text': \" So, it's just takes working hard and keep firing.\"},\n",
       "  {'timestamp': (276.0, 278.0),\n",
       "   'text': ' A little year-old is around the corner as well.'},\n",
       "  {'timestamp': (278.0, 283.0),\n",
       "   'text': \" Yeah, and that's another place I want to get to, which I do believe that.\"},\n",
       "  {'timestamp': (283.0, 286.8),\n",
       "   'text': \" In my head, I'm place on I get to, which I do believe that. In my head, I'm very, I'm ready to get to you, so.\"},\n",
       "  {'timestamp': (287.6, 290.0),\n",
       "   'text': ' And at club level, what your ambition is there in football?'},\n",
       "  {'timestamp': (291.0, 294.6),\n",
       "   'text': ' Um, win the win, win trophies, win some silverware.'},\n",
       "  {'timestamp': (294.8, 296.0), 'text': ' I feel like...'},\n",
       "  {'timestamp': (297.8, 299.8), 'text': ' I feel like I want to play for...'},\n",
       "  {'timestamp': (301.8, 304.0), 'text': ' the highest level possible.'},\n",
       "  {'timestamp': (304.2, 312.4),\n",
       "   'text': \" Playful with... Playful club that's, I'm loved that, not just one of,\"},\n",
       "  {'timestamp': (312.4, 321.24),\n",
       "   'text': \" but I feel like, with all my moves, I've not just gone to a club for whatever money or whatever.\"},\n",
       "  {'timestamp': (321.24, 325.8),\n",
       "   'text': \" I've gone, it's been the right step for me and I've achieved\"},\n",
       "  {'timestamp': (325.8, 330.5),\n",
       "   'text': \" something every year, every year I've just got better and better. You went with\"},\n",
       "  {'timestamp': (330.5, 335.52),\n",
       "   'text': \" the Premier League one day? That's the end, that's the end, I don't know when the\"},\n",
       "  {'timestamp': (335.52, 341.8),\n",
       "   'text': \" World Couples are, I don't know when trophies are, it's like, wow, I'm being\"},\n",
       "  {'timestamp': (341.8, 349.24),\n",
       "   'text': \" from where I'm from, no phantom, not many people can achieve them things or be\"},\n",
       "  {'timestamp': (349.24, 354.12),\n",
       "   'text': \" like, yeah, he's been at the World Cup, he's on the World Cup.\"},\n",
       "  {'timestamp': (354.12, 357.68),\n",
       "   'text': \" And even then, my one still isn't the same house.\"},\n",
       "  {'timestamp': (357.68, 358.68), 'text': ' Really?'},\n",
       "  {'timestamp': (358.68, 359.68), 'text': ' Yeah, she does want to move.'},\n",
       "  {'timestamp': (359.68, 365.72),\n",
       "   'text': \" She's like being there and people will one day be like, yeah, I have his mom lives there.\"},\n",
       "  {'timestamp': (365.72, 369.0),\n",
       "   'text': ' I do that now, but it would be more of achievement.'},\n",
       "  {'timestamp': (369.0, 372.52),\n",
       "   'text': \" And I've won something like that and I'm like, yeah, I have his mom there.\"},\n",
       "  {'timestamp': (372.52, 375.0),\n",
       "   'text': \" I haven't come there all the time.\"},\n",
       "  {'timestamp': (375.0, 380.64),\n",
       "   'text': \" I think that's kind of how we are, how I am.\"},\n",
       "  {'timestamp': (380.64, 384.24),\n",
       "   'text': \" And you can see, she's on a move into some big house.\"},\n",
       "  {'timestamp': (384.24, 385.48), 'text': ' She feels safe and comfy'},\n",
       "  {'timestamp': (386.32, 388.32),\n",
       "   'text': \" At the house where she's at and that shows\"},\n",
       "  {'timestamp': (388.88, 394.52),\n",
       "   'text': ' About how no choice puts to be grounded and you know three kids as well. Yeah, three little boys'},\n",
       "  {'timestamp': (394.52, 399.88),\n",
       "   'text': \" Do you think about them? Do you think about what the legacy you want to leave that they're gonna grow up in line about\"},\n",
       "  {'timestamp': (399.88, 403.16),\n",
       "   'text': ' Is that question mind a lot? Yeah, yeah, it does'},\n",
       "  {'timestamp': (405.0, 408.16),\n",
       "   'text': \" I want to leave a legacy that they don't have no pressure\"},\n",
       "  {'timestamp': (408.16, 409.56), 'text': ' on their shoulders to walk into.'},\n",
       "  {'timestamp': (411.32, 412.16), 'text': \" That's where they,\"},\n",
       "  {'timestamp': (412.16, 414.0),\n",
       "   'text': ' wherever they is, the football or whatever industry'},\n",
       "  {'timestamp': (414.0, 417.08),\n",
       "   'text': ' they look to go into, which obviously I would wanna say,'},\n",
       "  {'timestamp': (417.08, 417.92), 'text': \" it's football.\"},\n",
       "  {'timestamp': (419.12, 420.16), 'text': \" But wherever they're,\"},\n",
       "  {'timestamp': (420.16, 423.84),\n",
       "   'text': \" wherever they're doing it to be successful and be like,\"},\n",
       "  {'timestamp': (423.84, 425.36), 'text': ' be strong like my chosen.'},\n",
       "  {'timestamp': (426.56, 431.2),\n",
       "   'text': \" I feel like I want them, I do want them to have the same, I bring an ad. Like I wouldn't put\"},\n",
       "  {'timestamp': (431.2, 435.28),\n",
       "   'text': \" them to that private school and then these things because I don't want to just give them everything.\"},\n",
       "  {'timestamp': (436.0, 438.88),\n",
       "   'text': ' I want them to have to work for some of these.'},\n",
       "  {'timestamp': (439.68, 443.76),\n",
       "   'text': ' Quick one. This is really, really fascinating to me. On the back end of our YouTube channel,'},\n",
       "  {'timestamp': (443.76, 447.0), 'text': ' it says that 69.9% of you'},\n",
       "  {'timestamp': (447.0, 450.0),\n",
       "   'text': ' that watches channel frequently over the lifetime of this channel,'},\n",
       "  {'timestamp': (450.0, 452.0),\n",
       "   'text': \" haven't yet hit the subscribe button.\"},\n",
       "  {'timestamp': (452.0, 453.0), 'text': ' I just wanted to ask you a favor.'},\n",
       "  {'timestamp': (453.0, 455.0), 'text': ' It helps this channel so much'},\n",
       "  {'timestamp': (455.0, 457.0),\n",
       "   'text': ' if you choose to just subscribe, helps us scale the gas,'},\n",
       "  {'timestamp': (457.0, 459.0), 'text': ' helps us scale the production,'},\n",
       "  {'timestamp': (459.0, 460.0), 'text': ' and it makes this show bigger.'},\n",
       "  {'timestamp': (460.0, 467.28),\n",
       "   'text': \" So if I could ask you for one favor, if you've watched this show before and you've enjoyed it and you like this episode that you're currently watching, could you please hit the subscribe button?\"},\n",
       "  {'timestamp': (467.28, 473.64),\n",
       "   'text': \" Thank you so much and I'll repay that gesture by making sure that everything we do here gets better and better and better\"},\n",
       "  {'timestamp': (473.64, 476.16),\n",
       "   'text': \" and better. That is a promise I'm willing to make you. Do we have a deal?\"}]}"
      ]
     },
     "execution_count": 8,
     "metadata": {},
     "output_type": "execute_result"
    }
   ],
   "source": [
    "result"
   ]
  },
  {
   "cell_type": "code",
   "execution_count": 9,
   "metadata": {},
   "outputs": [
    {
     "data": {
      "text/plain": [
       "True"
      ]
     },
     "execution_count": 9,
     "metadata": {},
     "output_type": "execute_result"
    }
   ],
   "source": [
    "from dotenv import load_dotenv\n",
    "\n",
    "# Load the .env file\n",
    "load_dotenv('../.env')"
   ]
  },
  {
   "cell_type": "code",
   "execution_count": 10,
   "metadata": {},
   "outputs": [
    {
     "name": "stderr",
     "output_type": "stream",
     "text": [
      "/Users/stevengeorge/opt/anaconda3/envs/doaic/lib/python3.10/site-packages/pyannote/audio/core/io.py:43: UserWarning: torchaudio._backend.set_audio_backend has been deprecated. With dispatcher enabled, this function is no-op. You can remove the function call.\n",
      "  torchaudio.set_audio_backend(\"soundfile\")\n",
      "/Users/stevengeorge/opt/anaconda3/envs/doaic/lib/python3.10/site-packages/torch_audiomentations/utils/io.py:27: UserWarning: torchaudio._backend.set_audio_backend has been deprecated. With dispatcher enabled, this function is no-op. You can remove the function call.\n",
      "  torchaudio.set_audio_backend(\"soundfile\")\n",
      "torchvision is not available - cannot save figures\n"
     ]
    }
   ],
   "source": [
    "from pyannote.audio import Pipeline\n",
    "\n",
    "pipeline = Pipeline.from_pretrained(\n",
    "  \"pyannote/speaker-diarization-3.1\",\n",
    "  use_auth_token=os.getenv(\"HF_ACCESS_TOKEN\")\n",
    ")"
   ]
  },
  {
   "cell_type": "code",
   "execution_count": 11,
   "metadata": {},
   "outputs": [
    {
     "ename": "KeyboardInterrupt",
     "evalue": "",
     "output_type": "error",
     "traceback": [
      "\u001b[0;31m---------------------------------------------------------------------------\u001b[0m",
      "\u001b[0;31mKeyboardInterrupt\u001b[0m                         Traceback (most recent call last)",
      "\u001b[1;32m/Users/stevengeorge/Documents/Github/diary-of-AI-ceo/notebooks/transcribe_testing.ipynb Cell 13\u001b[0m line \u001b[0;36m1\n\u001b[0;32m----> <a href='vscode-notebook-cell:/Users/stevengeorge/Documents/Github/diary-of-AI-ceo/notebooks/transcribe_testing.ipynb#X15sZmlsZQ%3D%3D?line=0'>1</a>\u001b[0m diarization \u001b[39m=\u001b[39m pipeline(\u001b[39m\"\u001b[39;49m\u001b[39m../data/audio/Ivan Toney Reveals Which Premier League Team He Wants To Play For Next.mp3\u001b[39;49m\u001b[39m\"\u001b[39;49m)\n",
      "File \u001b[0;32m~/opt/anaconda3/envs/doaic/lib/python3.10/site-packages/pyannote/audio/core/pipeline.py:325\u001b[0m, in \u001b[0;36mPipeline.__call__\u001b[0;34m(self, file, **kwargs)\u001b[0m\n\u001b[1;32m    322\u001b[0m \u001b[39mif\u001b[39;00m \u001b[39mhasattr\u001b[39m(\u001b[39mself\u001b[39m, \u001b[39m\"\u001b[39m\u001b[39mpreprocessors\u001b[39m\u001b[39m\"\u001b[39m):\n\u001b[1;32m    323\u001b[0m     file \u001b[39m=\u001b[39m ProtocolFile(file, lazy\u001b[39m=\u001b[39m\u001b[39mself\u001b[39m\u001b[39m.\u001b[39mpreprocessors)\n\u001b[0;32m--> 325\u001b[0m \u001b[39mreturn\u001b[39;00m \u001b[39mself\u001b[39;49m\u001b[39m.\u001b[39;49mapply(file, \u001b[39m*\u001b[39;49m\u001b[39m*\u001b[39;49mkwargs)\n",
      "File \u001b[0;32m~/opt/anaconda3/envs/doaic/lib/python3.10/site-packages/pyannote/audio/pipelines/speaker_diarization.py:514\u001b[0m, in \u001b[0;36mSpeakerDiarization.apply\u001b[0;34m(self, file, num_speakers, min_speakers, max_speakers, return_embeddings, hook)\u001b[0m\n\u001b[1;32m    512\u001b[0m     embeddings \u001b[39m=\u001b[39m \u001b[39mNone\u001b[39;00m\n\u001b[1;32m    513\u001b[0m \u001b[39melse\u001b[39;00m:\n\u001b[0;32m--> 514\u001b[0m     embeddings \u001b[39m=\u001b[39m \u001b[39mself\u001b[39;49m\u001b[39m.\u001b[39;49mget_embeddings(\n\u001b[1;32m    515\u001b[0m         file,\n\u001b[1;32m    516\u001b[0m         binarized_segmentations,\n\u001b[1;32m    517\u001b[0m         exclude_overlap\u001b[39m=\u001b[39;49m\u001b[39mself\u001b[39;49m\u001b[39m.\u001b[39;49membedding_exclude_overlap,\n\u001b[1;32m    518\u001b[0m         hook\u001b[39m=\u001b[39;49mhook,\n\u001b[1;32m    519\u001b[0m     )\n\u001b[1;32m    520\u001b[0m     hook(\u001b[39m\"\u001b[39m\u001b[39membeddings\u001b[39m\u001b[39m\"\u001b[39m, embeddings)\n\u001b[1;32m    521\u001b[0m     \u001b[39m#   shape: (num_chunks, local_num_speakers, dimension)\u001b[39;00m\n",
      "File \u001b[0;32m~/opt/anaconda3/envs/doaic/lib/python3.10/site-packages/pyannote/audio/pipelines/speaker_diarization.py:349\u001b[0m, in \u001b[0;36mSpeakerDiarization.get_embeddings\u001b[0;34m(self, file, binary_segmentations, exclude_overlap, hook)\u001b[0m\n\u001b[1;32m    346\u001b[0m mask_batch \u001b[39m=\u001b[39m torch\u001b[39m.\u001b[39mvstack(masks)\n\u001b[1;32m    347\u001b[0m \u001b[39m# (batch_size, num_frames) torch.Tensor\u001b[39;00m\n\u001b[0;32m--> 349\u001b[0m embedding_batch: np\u001b[39m.\u001b[39mndarray \u001b[39m=\u001b[39m \u001b[39mself\u001b[39;49m\u001b[39m.\u001b[39;49m_embedding(\n\u001b[1;32m    350\u001b[0m     waveform_batch, masks\u001b[39m=\u001b[39;49mmask_batch\n\u001b[1;32m    351\u001b[0m )\n\u001b[1;32m    352\u001b[0m \u001b[39m# (batch_size, dimension) np.ndarray\u001b[39;00m\n\u001b[1;32m    354\u001b[0m embedding_batches\u001b[39m.\u001b[39mappend(embedding_batch)\n",
      "File \u001b[0;32m~/opt/anaconda3/envs/doaic/lib/python3.10/site-packages/pyannote/audio/pipelines/speaker_verification.py:706\u001b[0m, in \u001b[0;36mPyannoteAudioPretrainedSpeakerEmbedding.__call__\u001b[0;34m(self, waveforms, masks)\u001b[0m\n\u001b[1;32m    704\u001b[0m         \u001b[39mwith\u001b[39;00m warnings\u001b[39m.\u001b[39mcatch_warnings():\n\u001b[1;32m    705\u001b[0m             warnings\u001b[39m.\u001b[39msimplefilter(\u001b[39m\"\u001b[39m\u001b[39mignore\u001b[39m\u001b[39m\"\u001b[39m)\n\u001b[0;32m--> 706\u001b[0m             embeddings \u001b[39m=\u001b[39m \u001b[39mself\u001b[39;49m\u001b[39m.\u001b[39;49mmodel_(\n\u001b[1;32m    707\u001b[0m                 waveforms\u001b[39m.\u001b[39;49mto(\u001b[39mself\u001b[39;49m\u001b[39m.\u001b[39;49mdevice), weights\u001b[39m=\u001b[39;49mmasks\u001b[39m.\u001b[39;49mto(\u001b[39mself\u001b[39;49m\u001b[39m.\u001b[39;49mdevice)\n\u001b[1;32m    708\u001b[0m             )\n\u001b[1;32m    709\u001b[0m \u001b[39mreturn\u001b[39;00m embeddings\u001b[39m.\u001b[39mcpu()\u001b[39m.\u001b[39mnumpy()\n",
      "File \u001b[0;32m~/opt/anaconda3/envs/doaic/lib/python3.10/site-packages/torch/nn/modules/module.py:1518\u001b[0m, in \u001b[0;36mModule._wrapped_call_impl\u001b[0;34m(self, *args, **kwargs)\u001b[0m\n\u001b[1;32m   1516\u001b[0m     \u001b[39mreturn\u001b[39;00m \u001b[39mself\u001b[39m\u001b[39m.\u001b[39m_compiled_call_impl(\u001b[39m*\u001b[39margs, \u001b[39m*\u001b[39m\u001b[39m*\u001b[39mkwargs)  \u001b[39m# type: ignore[misc]\u001b[39;00m\n\u001b[1;32m   1517\u001b[0m \u001b[39melse\u001b[39;00m:\n\u001b[0;32m-> 1518\u001b[0m     \u001b[39mreturn\u001b[39;00m \u001b[39mself\u001b[39;49m\u001b[39m.\u001b[39;49m_call_impl(\u001b[39m*\u001b[39;49margs, \u001b[39m*\u001b[39;49m\u001b[39m*\u001b[39;49mkwargs)\n",
      "File \u001b[0;32m~/opt/anaconda3/envs/doaic/lib/python3.10/site-packages/torch/nn/modules/module.py:1527\u001b[0m, in \u001b[0;36mModule._call_impl\u001b[0;34m(self, *args, **kwargs)\u001b[0m\n\u001b[1;32m   1522\u001b[0m \u001b[39m# If we don't have any hooks, we want to skip the rest of the logic in\u001b[39;00m\n\u001b[1;32m   1523\u001b[0m \u001b[39m# this function, and just call forward.\u001b[39;00m\n\u001b[1;32m   1524\u001b[0m \u001b[39mif\u001b[39;00m \u001b[39mnot\u001b[39;00m (\u001b[39mself\u001b[39m\u001b[39m.\u001b[39m_backward_hooks \u001b[39mor\u001b[39;00m \u001b[39mself\u001b[39m\u001b[39m.\u001b[39m_backward_pre_hooks \u001b[39mor\u001b[39;00m \u001b[39mself\u001b[39m\u001b[39m.\u001b[39m_forward_hooks \u001b[39mor\u001b[39;00m \u001b[39mself\u001b[39m\u001b[39m.\u001b[39m_forward_pre_hooks\n\u001b[1;32m   1525\u001b[0m         \u001b[39mor\u001b[39;00m _global_backward_pre_hooks \u001b[39mor\u001b[39;00m _global_backward_hooks\n\u001b[1;32m   1526\u001b[0m         \u001b[39mor\u001b[39;00m _global_forward_hooks \u001b[39mor\u001b[39;00m _global_forward_pre_hooks):\n\u001b[0;32m-> 1527\u001b[0m     \u001b[39mreturn\u001b[39;00m forward_call(\u001b[39m*\u001b[39;49margs, \u001b[39m*\u001b[39;49m\u001b[39m*\u001b[39;49mkwargs)\n\u001b[1;32m   1529\u001b[0m \u001b[39mtry\u001b[39;00m:\n\u001b[1;32m   1530\u001b[0m     result \u001b[39m=\u001b[39m \u001b[39mNone\u001b[39;00m\n",
      "File \u001b[0;32m~/opt/anaconda3/envs/doaic/lib/python3.10/site-packages/pyannote/audio/models/embedding/wespeaker/__init__.py:112\u001b[0m, in \u001b[0;36mBaseWeSpeakerResNet.forward\u001b[0;34m(self, waveforms, weights)\u001b[0m\n\u001b[1;32m    101\u001b[0m \u001b[39m\u001b[39m\u001b[39m\"\"\"\u001b[39;00m\n\u001b[1;32m    102\u001b[0m \n\u001b[1;32m    103\u001b[0m \u001b[39mParameters\u001b[39;00m\n\u001b[0;32m   (...)\u001b[0m\n\u001b[1;32m    108\u001b[0m \u001b[39m    Batch of weights with shape (batch, frame).\u001b[39;00m\n\u001b[1;32m    109\u001b[0m \u001b[39m\"\"\"\u001b[39;00m\n\u001b[1;32m    111\u001b[0m fbank \u001b[39m=\u001b[39m \u001b[39mself\u001b[39m\u001b[39m.\u001b[39mcompute_fbank(waveforms)\n\u001b[0;32m--> 112\u001b[0m \u001b[39mreturn\u001b[39;00m \u001b[39mself\u001b[39;49m\u001b[39m.\u001b[39;49mresnet(fbank, weights\u001b[39m=\u001b[39;49mweights)[\u001b[39m1\u001b[39m]\n",
      "File \u001b[0;32m~/opt/anaconda3/envs/doaic/lib/python3.10/site-packages/torch/nn/modules/module.py:1518\u001b[0m, in \u001b[0;36mModule._wrapped_call_impl\u001b[0;34m(self, *args, **kwargs)\u001b[0m\n\u001b[1;32m   1516\u001b[0m     \u001b[39mreturn\u001b[39;00m \u001b[39mself\u001b[39m\u001b[39m.\u001b[39m_compiled_call_impl(\u001b[39m*\u001b[39margs, \u001b[39m*\u001b[39m\u001b[39m*\u001b[39mkwargs)  \u001b[39m# type: ignore[misc]\u001b[39;00m\n\u001b[1;32m   1517\u001b[0m \u001b[39melse\u001b[39;00m:\n\u001b[0;32m-> 1518\u001b[0m     \u001b[39mreturn\u001b[39;00m \u001b[39mself\u001b[39;49m\u001b[39m.\u001b[39;49m_call_impl(\u001b[39m*\u001b[39;49margs, \u001b[39m*\u001b[39;49m\u001b[39m*\u001b[39;49mkwargs)\n",
      "File \u001b[0;32m~/opt/anaconda3/envs/doaic/lib/python3.10/site-packages/torch/nn/modules/module.py:1527\u001b[0m, in \u001b[0;36mModule._call_impl\u001b[0;34m(self, *args, **kwargs)\u001b[0m\n\u001b[1;32m   1522\u001b[0m \u001b[39m# If we don't have any hooks, we want to skip the rest of the logic in\u001b[39;00m\n\u001b[1;32m   1523\u001b[0m \u001b[39m# this function, and just call forward.\u001b[39;00m\n\u001b[1;32m   1524\u001b[0m \u001b[39mif\u001b[39;00m \u001b[39mnot\u001b[39;00m (\u001b[39mself\u001b[39m\u001b[39m.\u001b[39m_backward_hooks \u001b[39mor\u001b[39;00m \u001b[39mself\u001b[39m\u001b[39m.\u001b[39m_backward_pre_hooks \u001b[39mor\u001b[39;00m \u001b[39mself\u001b[39m\u001b[39m.\u001b[39m_forward_hooks \u001b[39mor\u001b[39;00m \u001b[39mself\u001b[39m\u001b[39m.\u001b[39m_forward_pre_hooks\n\u001b[1;32m   1525\u001b[0m         \u001b[39mor\u001b[39;00m _global_backward_pre_hooks \u001b[39mor\u001b[39;00m _global_backward_hooks\n\u001b[1;32m   1526\u001b[0m         \u001b[39mor\u001b[39;00m _global_forward_hooks \u001b[39mor\u001b[39;00m _global_forward_pre_hooks):\n\u001b[0;32m-> 1527\u001b[0m     \u001b[39mreturn\u001b[39;00m forward_call(\u001b[39m*\u001b[39;49margs, \u001b[39m*\u001b[39;49m\u001b[39m*\u001b[39;49mkwargs)\n\u001b[1;32m   1529\u001b[0m \u001b[39mtry\u001b[39;00m:\n\u001b[1;32m   1530\u001b[0m     result \u001b[39m=\u001b[39m \u001b[39mNone\u001b[39;00m\n",
      "File \u001b[0;32m~/opt/anaconda3/envs/doaic/lib/python3.10/site-packages/pyannote/audio/models/embedding/wespeaker/resnet.py:211\u001b[0m, in \u001b[0;36mResNet.forward\u001b[0;34m(self, x, weights)\u001b[0m\n\u001b[1;32m    209\u001b[0m x \u001b[39m=\u001b[39m x\u001b[39m.\u001b[39munsqueeze_(\u001b[39m1\u001b[39m)\n\u001b[1;32m    210\u001b[0m out \u001b[39m=\u001b[39m F\u001b[39m.\u001b[39mrelu(\u001b[39mself\u001b[39m\u001b[39m.\u001b[39mbn1(\u001b[39mself\u001b[39m\u001b[39m.\u001b[39mconv1(x)))\n\u001b[0;32m--> 211\u001b[0m out \u001b[39m=\u001b[39m \u001b[39mself\u001b[39;49m\u001b[39m.\u001b[39;49mlayer1(out)\n\u001b[1;32m    212\u001b[0m out \u001b[39m=\u001b[39m \u001b[39mself\u001b[39m\u001b[39m.\u001b[39mlayer2(out)\n\u001b[1;32m    213\u001b[0m out \u001b[39m=\u001b[39m \u001b[39mself\u001b[39m\u001b[39m.\u001b[39mlayer3(out)\n",
      "File \u001b[0;32m~/opt/anaconda3/envs/doaic/lib/python3.10/site-packages/torch/nn/modules/module.py:1518\u001b[0m, in \u001b[0;36mModule._wrapped_call_impl\u001b[0;34m(self, *args, **kwargs)\u001b[0m\n\u001b[1;32m   1516\u001b[0m     \u001b[39mreturn\u001b[39;00m \u001b[39mself\u001b[39m\u001b[39m.\u001b[39m_compiled_call_impl(\u001b[39m*\u001b[39margs, \u001b[39m*\u001b[39m\u001b[39m*\u001b[39mkwargs)  \u001b[39m# type: ignore[misc]\u001b[39;00m\n\u001b[1;32m   1517\u001b[0m \u001b[39melse\u001b[39;00m:\n\u001b[0;32m-> 1518\u001b[0m     \u001b[39mreturn\u001b[39;00m \u001b[39mself\u001b[39;49m\u001b[39m.\u001b[39;49m_call_impl(\u001b[39m*\u001b[39;49margs, \u001b[39m*\u001b[39;49m\u001b[39m*\u001b[39;49mkwargs)\n",
      "File \u001b[0;32m~/opt/anaconda3/envs/doaic/lib/python3.10/site-packages/torch/nn/modules/module.py:1527\u001b[0m, in \u001b[0;36mModule._call_impl\u001b[0;34m(self, *args, **kwargs)\u001b[0m\n\u001b[1;32m   1522\u001b[0m \u001b[39m# If we don't have any hooks, we want to skip the rest of the logic in\u001b[39;00m\n\u001b[1;32m   1523\u001b[0m \u001b[39m# this function, and just call forward.\u001b[39;00m\n\u001b[1;32m   1524\u001b[0m \u001b[39mif\u001b[39;00m \u001b[39mnot\u001b[39;00m (\u001b[39mself\u001b[39m\u001b[39m.\u001b[39m_backward_hooks \u001b[39mor\u001b[39;00m \u001b[39mself\u001b[39m\u001b[39m.\u001b[39m_backward_pre_hooks \u001b[39mor\u001b[39;00m \u001b[39mself\u001b[39m\u001b[39m.\u001b[39m_forward_hooks \u001b[39mor\u001b[39;00m \u001b[39mself\u001b[39m\u001b[39m.\u001b[39m_forward_pre_hooks\n\u001b[1;32m   1525\u001b[0m         \u001b[39mor\u001b[39;00m _global_backward_pre_hooks \u001b[39mor\u001b[39;00m _global_backward_hooks\n\u001b[1;32m   1526\u001b[0m         \u001b[39mor\u001b[39;00m _global_forward_hooks \u001b[39mor\u001b[39;00m _global_forward_pre_hooks):\n\u001b[0;32m-> 1527\u001b[0m     \u001b[39mreturn\u001b[39;00m forward_call(\u001b[39m*\u001b[39;49margs, \u001b[39m*\u001b[39;49m\u001b[39m*\u001b[39;49mkwargs)\n\u001b[1;32m   1529\u001b[0m \u001b[39mtry\u001b[39;00m:\n\u001b[1;32m   1530\u001b[0m     result \u001b[39m=\u001b[39m \u001b[39mNone\u001b[39;00m\n",
      "File \u001b[0;32m~/opt/anaconda3/envs/doaic/lib/python3.10/site-packages/torch/nn/modules/container.py:215\u001b[0m, in \u001b[0;36mSequential.forward\u001b[0;34m(self, input)\u001b[0m\n\u001b[1;32m    213\u001b[0m \u001b[39mdef\u001b[39;00m \u001b[39mforward\u001b[39m(\u001b[39mself\u001b[39m, \u001b[39minput\u001b[39m):\n\u001b[1;32m    214\u001b[0m     \u001b[39mfor\u001b[39;00m module \u001b[39min\u001b[39;00m \u001b[39mself\u001b[39m:\n\u001b[0;32m--> 215\u001b[0m         \u001b[39minput\u001b[39m \u001b[39m=\u001b[39m module(\u001b[39minput\u001b[39;49m)\n\u001b[1;32m    216\u001b[0m     \u001b[39mreturn\u001b[39;00m \u001b[39minput\u001b[39m\n",
      "File \u001b[0;32m~/opt/anaconda3/envs/doaic/lib/python3.10/site-packages/torch/nn/modules/module.py:1518\u001b[0m, in \u001b[0;36mModule._wrapped_call_impl\u001b[0;34m(self, *args, **kwargs)\u001b[0m\n\u001b[1;32m   1516\u001b[0m     \u001b[39mreturn\u001b[39;00m \u001b[39mself\u001b[39m\u001b[39m.\u001b[39m_compiled_call_impl(\u001b[39m*\u001b[39margs, \u001b[39m*\u001b[39m\u001b[39m*\u001b[39mkwargs)  \u001b[39m# type: ignore[misc]\u001b[39;00m\n\u001b[1;32m   1517\u001b[0m \u001b[39melse\u001b[39;00m:\n\u001b[0;32m-> 1518\u001b[0m     \u001b[39mreturn\u001b[39;00m \u001b[39mself\u001b[39;49m\u001b[39m.\u001b[39;49m_call_impl(\u001b[39m*\u001b[39;49margs, \u001b[39m*\u001b[39;49m\u001b[39m*\u001b[39;49mkwargs)\n",
      "File \u001b[0;32m~/opt/anaconda3/envs/doaic/lib/python3.10/site-packages/torch/nn/modules/module.py:1527\u001b[0m, in \u001b[0;36mModule._call_impl\u001b[0;34m(self, *args, **kwargs)\u001b[0m\n\u001b[1;32m   1522\u001b[0m \u001b[39m# If we don't have any hooks, we want to skip the rest of the logic in\u001b[39;00m\n\u001b[1;32m   1523\u001b[0m \u001b[39m# this function, and just call forward.\u001b[39;00m\n\u001b[1;32m   1524\u001b[0m \u001b[39mif\u001b[39;00m \u001b[39mnot\u001b[39;00m (\u001b[39mself\u001b[39m\u001b[39m.\u001b[39m_backward_hooks \u001b[39mor\u001b[39;00m \u001b[39mself\u001b[39m\u001b[39m.\u001b[39m_backward_pre_hooks \u001b[39mor\u001b[39;00m \u001b[39mself\u001b[39m\u001b[39m.\u001b[39m_forward_hooks \u001b[39mor\u001b[39;00m \u001b[39mself\u001b[39m\u001b[39m.\u001b[39m_forward_pre_hooks\n\u001b[1;32m   1525\u001b[0m         \u001b[39mor\u001b[39;00m _global_backward_pre_hooks \u001b[39mor\u001b[39;00m _global_backward_hooks\n\u001b[1;32m   1526\u001b[0m         \u001b[39mor\u001b[39;00m _global_forward_hooks \u001b[39mor\u001b[39;00m _global_forward_pre_hooks):\n\u001b[0;32m-> 1527\u001b[0m     \u001b[39mreturn\u001b[39;00m forward_call(\u001b[39m*\u001b[39;49margs, \u001b[39m*\u001b[39;49m\u001b[39m*\u001b[39;49mkwargs)\n\u001b[1;32m   1529\u001b[0m \u001b[39mtry\u001b[39;00m:\n\u001b[1;32m   1530\u001b[0m     result \u001b[39m=\u001b[39m \u001b[39mNone\u001b[39;00m\n",
      "File \u001b[0;32m~/opt/anaconda3/envs/doaic/lib/python3.10/site-packages/pyannote/audio/models/embedding/wespeaker/resnet.py:102\u001b[0m, in \u001b[0;36mBasicBlock.forward\u001b[0;34m(self, x)\u001b[0m\n\u001b[1;32m    100\u001b[0m \u001b[39mdef\u001b[39;00m \u001b[39mforward\u001b[39m(\u001b[39mself\u001b[39m, x):\n\u001b[1;32m    101\u001b[0m     out \u001b[39m=\u001b[39m F\u001b[39m.\u001b[39mrelu(\u001b[39mself\u001b[39m\u001b[39m.\u001b[39mbn1(\u001b[39mself\u001b[39m\u001b[39m.\u001b[39mconv1(x)))\n\u001b[0;32m--> 102\u001b[0m     out \u001b[39m=\u001b[39m \u001b[39mself\u001b[39m\u001b[39m.\u001b[39mbn2(\u001b[39mself\u001b[39;49m\u001b[39m.\u001b[39;49mconv2(out))\n\u001b[1;32m    103\u001b[0m     out \u001b[39m+\u001b[39m\u001b[39m=\u001b[39m \u001b[39mself\u001b[39m\u001b[39m.\u001b[39mshortcut(x)\n\u001b[1;32m    104\u001b[0m     out \u001b[39m=\u001b[39m F\u001b[39m.\u001b[39mrelu(out)\n",
      "File \u001b[0;32m~/opt/anaconda3/envs/doaic/lib/python3.10/site-packages/torch/nn/modules/module.py:1518\u001b[0m, in \u001b[0;36mModule._wrapped_call_impl\u001b[0;34m(self, *args, **kwargs)\u001b[0m\n\u001b[1;32m   1516\u001b[0m     \u001b[39mreturn\u001b[39;00m \u001b[39mself\u001b[39m\u001b[39m.\u001b[39m_compiled_call_impl(\u001b[39m*\u001b[39margs, \u001b[39m*\u001b[39m\u001b[39m*\u001b[39mkwargs)  \u001b[39m# type: ignore[misc]\u001b[39;00m\n\u001b[1;32m   1517\u001b[0m \u001b[39melse\u001b[39;00m:\n\u001b[0;32m-> 1518\u001b[0m     \u001b[39mreturn\u001b[39;00m \u001b[39mself\u001b[39;49m\u001b[39m.\u001b[39;49m_call_impl(\u001b[39m*\u001b[39;49margs, \u001b[39m*\u001b[39;49m\u001b[39m*\u001b[39;49mkwargs)\n",
      "File \u001b[0;32m~/opt/anaconda3/envs/doaic/lib/python3.10/site-packages/torch/nn/modules/module.py:1527\u001b[0m, in \u001b[0;36mModule._call_impl\u001b[0;34m(self, *args, **kwargs)\u001b[0m\n\u001b[1;32m   1522\u001b[0m \u001b[39m# If we don't have any hooks, we want to skip the rest of the logic in\u001b[39;00m\n\u001b[1;32m   1523\u001b[0m \u001b[39m# this function, and just call forward.\u001b[39;00m\n\u001b[1;32m   1524\u001b[0m \u001b[39mif\u001b[39;00m \u001b[39mnot\u001b[39;00m (\u001b[39mself\u001b[39m\u001b[39m.\u001b[39m_backward_hooks \u001b[39mor\u001b[39;00m \u001b[39mself\u001b[39m\u001b[39m.\u001b[39m_backward_pre_hooks \u001b[39mor\u001b[39;00m \u001b[39mself\u001b[39m\u001b[39m.\u001b[39m_forward_hooks \u001b[39mor\u001b[39;00m \u001b[39mself\u001b[39m\u001b[39m.\u001b[39m_forward_pre_hooks\n\u001b[1;32m   1525\u001b[0m         \u001b[39mor\u001b[39;00m _global_backward_pre_hooks \u001b[39mor\u001b[39;00m _global_backward_hooks\n\u001b[1;32m   1526\u001b[0m         \u001b[39mor\u001b[39;00m _global_forward_hooks \u001b[39mor\u001b[39;00m _global_forward_pre_hooks):\n\u001b[0;32m-> 1527\u001b[0m     \u001b[39mreturn\u001b[39;00m forward_call(\u001b[39m*\u001b[39;49margs, \u001b[39m*\u001b[39;49m\u001b[39m*\u001b[39;49mkwargs)\n\u001b[1;32m   1529\u001b[0m \u001b[39mtry\u001b[39;00m:\n\u001b[1;32m   1530\u001b[0m     result \u001b[39m=\u001b[39m \u001b[39mNone\u001b[39;00m\n",
      "File \u001b[0;32m~/opt/anaconda3/envs/doaic/lib/python3.10/site-packages/torch/nn/modules/conv.py:460\u001b[0m, in \u001b[0;36mConv2d.forward\u001b[0;34m(self, input)\u001b[0m\n\u001b[1;32m    459\u001b[0m \u001b[39mdef\u001b[39;00m \u001b[39mforward\u001b[39m(\u001b[39mself\u001b[39m, \u001b[39minput\u001b[39m: Tensor) \u001b[39m-\u001b[39m\u001b[39m>\u001b[39m Tensor:\n\u001b[0;32m--> 460\u001b[0m     \u001b[39mreturn\u001b[39;00m \u001b[39mself\u001b[39;49m\u001b[39m.\u001b[39;49m_conv_forward(\u001b[39minput\u001b[39;49m, \u001b[39mself\u001b[39;49m\u001b[39m.\u001b[39;49mweight, \u001b[39mself\u001b[39;49m\u001b[39m.\u001b[39;49mbias)\n",
      "File \u001b[0;32m~/opt/anaconda3/envs/doaic/lib/python3.10/site-packages/torch/nn/modules/conv.py:456\u001b[0m, in \u001b[0;36mConv2d._conv_forward\u001b[0;34m(self, input, weight, bias)\u001b[0m\n\u001b[1;32m    452\u001b[0m \u001b[39mif\u001b[39;00m \u001b[39mself\u001b[39m\u001b[39m.\u001b[39mpadding_mode \u001b[39m!=\u001b[39m \u001b[39m'\u001b[39m\u001b[39mzeros\u001b[39m\u001b[39m'\u001b[39m:\n\u001b[1;32m    453\u001b[0m     \u001b[39mreturn\u001b[39;00m F\u001b[39m.\u001b[39mconv2d(F\u001b[39m.\u001b[39mpad(\u001b[39minput\u001b[39m, \u001b[39mself\u001b[39m\u001b[39m.\u001b[39m_reversed_padding_repeated_twice, mode\u001b[39m=\u001b[39m\u001b[39mself\u001b[39m\u001b[39m.\u001b[39mpadding_mode),\n\u001b[1;32m    454\u001b[0m                     weight, bias, \u001b[39mself\u001b[39m\u001b[39m.\u001b[39mstride,\n\u001b[1;32m    455\u001b[0m                     _pair(\u001b[39m0\u001b[39m), \u001b[39mself\u001b[39m\u001b[39m.\u001b[39mdilation, \u001b[39mself\u001b[39m\u001b[39m.\u001b[39mgroups)\n\u001b[0;32m--> 456\u001b[0m \u001b[39mreturn\u001b[39;00m F\u001b[39m.\u001b[39;49mconv2d(\u001b[39minput\u001b[39;49m, weight, bias, \u001b[39mself\u001b[39;49m\u001b[39m.\u001b[39;49mstride,\n\u001b[1;32m    457\u001b[0m                 \u001b[39mself\u001b[39;49m\u001b[39m.\u001b[39;49mpadding, \u001b[39mself\u001b[39;49m\u001b[39m.\u001b[39;49mdilation, \u001b[39mself\u001b[39;49m\u001b[39m.\u001b[39;49mgroups)\n",
      "\u001b[0;31mKeyboardInterrupt\u001b[0m: "
     ]
    }
   ],
   "source": [
    "diarization = pipeline(\"../data/audio/Ivan Toney Reveals Which Premier League Team He Wants To Play For Next.mp3\")"
   ]
  },
  {
   "cell_type": "code",
   "execution_count": 12,
   "metadata": {},
   "outputs": [],
   "source": [
    "import torchaudio"
   ]
  },
  {
   "cell_type": "code",
   "execution_count": 13,
   "metadata": {},
   "outputs": [],
   "source": [
    "waveform, sample_rate = torchaudio.load(\"../data/audio/Ivan Toney Reveals Which Premier League Team He Wants To Play For Next.mp3\")"
   ]
  },
  {
   "cell_type": "code",
   "execution_count": 14,
   "metadata": {},
   "outputs": [],
   "source": [
    "diarization = pipeline({\"waveform\": waveform, \"sample_rate\": sample_rate})"
   ]
  },
  {
   "cell_type": "code",
   "execution_count": null,
   "metadata": {},
   "outputs": [],
   "source": []
  }
 ],
 "metadata": {
  "kernelspec": {
   "display_name": "doaic",
   "language": "python",
   "name": "python3"
  },
  "language_info": {
   "codemirror_mode": {
    "name": "ipython",
    "version": 3
   },
   "file_extension": ".py",
   "mimetype": "text/x-python",
   "name": "python",
   "nbconvert_exporter": "python",
   "pygments_lexer": "ipython3",
   "version": "3.10.13"
  }
 },
 "nbformat": 4,
 "nbformat_minor": 2
}
